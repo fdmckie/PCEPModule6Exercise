{
 "cells": [
  {
   "cell_type": "markdown",
   "metadata": {},
   "source": [
    "### Exercise 1\n",
    "Convert following decimal number to a binary number by hand:\n",
    "\n",
    "    61\n",
    "    15\n",
    "    71\n",
    "    "
   ]
  },
  {
   "cell_type": "code",
   "execution_count": null,
   "metadata": {},
   "outputs": [],
   "source": [
    "#61\n",
    "\n",
    "# 61 // 2 = 30    61 % 2 = 1     (2 to the 0 power location)\n",
    "# 30 // 2 = 15    30 % 2 = 0     (2 to the 1st power location)\n",
    "# 15 // 2 = 7     15 % 2 = 1     (2 to the 2nd power location)\n",
    "#  7 // 2 = 3      7 % 2 = 1     (2 to the 3rd power location)\n",
    "#  3 // 2 = 1      3 % 2 = 1     (2 to the 4th power location)\n",
    "#  1 // 2 = 0      1 % 2 = 1     (2 to the 5th power location)\n",
    "\n",
    "# 61 = 0b0011 1101"
   ]
  },
  {
   "cell_type": "code",
   "execution_count": null,
   "metadata": {},
   "outputs": [],
   "source": [
    "# (2 ** 5) + (2 ** 4) + (2 ** 3) + (2 ** 2) + (2 ** 0) = 32 + 16 + 8 + 4 + 1 = 61"
   ]
  },
  {
   "cell_type": "code",
   "execution_count": 1,
   "metadata": {},
   "outputs": [
    {
     "name": "stdout",
     "output_type": "stream",
     "text": [
      "0b111101\n"
     ]
    }
   ],
   "source": [
    "#for verification\n",
    "print(bin(61))"
   ]
  },
  {
   "cell_type": "code",
   "execution_count": 3,
   "metadata": {},
   "outputs": [
    {
     "data": {
      "text/plain": [
       "61"
      ]
     },
     "execution_count": 3,
     "metadata": {},
     "output_type": "execute_result"
    }
   ],
   "source": [
    "#for verification\n",
    "int(0b00111101)"
   ]
  },
  {
   "cell_type": "code",
   "execution_count": null,
   "metadata": {},
   "outputs": [],
   "source": []
  },
  {
   "cell_type": "code",
   "execution_count": null,
   "metadata": {},
   "outputs": [],
   "source": [
    "#15\n",
    "\n",
    "# 15 // 2 = 7     15 % 2 = 1     (2 to the 0 power location)\n",
    "#  7 // 2 = 3      7 % 2 = 1     (2 to the 1st power location)\n",
    "#  3 // 2 = 1      3 % 2 = 1     (2 to the 2nd power location)\n",
    "#  1 // 2 = 0      1 % 2 = 1     (2 to the 3rd power location)\n",
    "\n",
    "# 15 = 0b0000 1111"
   ]
  },
  {
   "cell_type": "code",
   "execution_count": null,
   "metadata": {},
   "outputs": [],
   "source": [
    "# (2 ** 3) + (2 ** 2) + (2 ** 1) + (2 ** 0) = 8 + 4 + 2 + 1 = 15"
   ]
  },
  {
   "cell_type": "code",
   "execution_count": 4,
   "metadata": {},
   "outputs": [
    {
     "name": "stdout",
     "output_type": "stream",
     "text": [
      "0b1111\n"
     ]
    }
   ],
   "source": [
    "#for verification\n",
    "print(bin(15))"
   ]
  },
  {
   "cell_type": "code",
   "execution_count": 5,
   "metadata": {},
   "outputs": [
    {
     "data": {
      "text/plain": [
       "15"
      ]
     },
     "execution_count": 5,
     "metadata": {},
     "output_type": "execute_result"
    }
   ],
   "source": [
    "#for verification\n",
    "int(0b00001111)"
   ]
  },
  {
   "cell_type": "code",
   "execution_count": null,
   "metadata": {},
   "outputs": [],
   "source": []
  },
  {
   "cell_type": "code",
   "execution_count": null,
   "metadata": {},
   "outputs": [],
   "source": [
    "#71\n",
    "\n",
    "# 71 // 2 = 35    71 % 2 = 1     (2 to the 0 power location)\n",
    "# 35 // 2 = 17    35 % 2 = 1     (2 to the 1st power location)\n",
    "# 17 // 2 = 8     17 % 2 = 1     (2 to the 2nd power location)\n",
    "#  8 // 2 = 4      8 % 2 = 0     (2 to the 3rd power location)\n",
    "#  4 // 2 = 2      4 % 2 = 0     (2 to the 4th power location)\n",
    "#  2 // 2 = 1      2 % 2 = 0     (2 to the 5th power location)\n",
    "#  1 // 2 = 0      1 % 2 = 1     (2 to the 6th power location)\n",
    "\n",
    "# 71 = 0b0100 0111"
   ]
  },
  {
   "cell_type": "code",
   "execution_count": null,
   "metadata": {},
   "outputs": [],
   "source": [
    "# (2 ** 6) + (2 ** 2) + (2 ** 1) + (2 ** 0) = 64 + 4 + 2 + 1 = 71"
   ]
  },
  {
   "cell_type": "code",
   "execution_count": 6,
   "metadata": {},
   "outputs": [
    {
     "name": "stdout",
     "output_type": "stream",
     "text": [
      "0b1000111\n"
     ]
    }
   ],
   "source": [
    "#for verification\n",
    "print(bin(71))"
   ]
  },
  {
   "cell_type": "code",
   "execution_count": 7,
   "metadata": {},
   "outputs": [
    {
     "data": {
      "text/plain": [
       "71"
      ]
     },
     "execution_count": 7,
     "metadata": {},
     "output_type": "execute_result"
    }
   ],
   "source": [
    "#for verification\n",
    "int(0b01000111)"
   ]
  },
  {
   "cell_type": "markdown",
   "metadata": {},
   "source": [
    "### Exercise 2\n",
    "When a = 61 and b = 15, what is the result of following bitwise opertion? Use inline comments to show your result in a binary number. Find your answer by hand.\n",
    "\n",
    "    a & b\n",
    "    a | b\n",
    "    a ^ b\n",
    "    a >> 2\n",
    "    "
   ]
  },
  {
   "cell_type": "code",
   "execution_count": 8,
   "metadata": {},
   "outputs": [],
   "source": [
    "#from Exercise 1\n",
    "\n",
    "a = 61\n",
    "b = 15\n",
    "\n",
    "# convert a in to a binary number\n",
    "# a = 61\n",
    "# 61 = 0b0011 1101\n",
    "\n",
    "# convert b in to a binary number\n",
    "# b = 15\n",
    "# 15 = 0b0000 1111\n"
   ]
  },
  {
   "cell_type": "code",
   "execution_count": null,
   "metadata": {},
   "outputs": [],
   "source": [
    "# a & b\n",
    "\n",
    "#     a = 0b0011 1101\n",
    "#     b = 0b0000 1111\n",
    "# a & b = 0b0000 1101\n",
    "# (2 ** 3) + (2 ** 2) + (2 ** 0) = 8 + 4 + 1 = 13"
   ]
  },
  {
   "cell_type": "code",
   "execution_count": 9,
   "metadata": {},
   "outputs": [
    {
     "name": "stdout",
     "output_type": "stream",
     "text": [
      "13\n"
     ]
    }
   ],
   "source": [
    "#for verification\n",
    "print(a & b)"
   ]
  },
  {
   "cell_type": "code",
   "execution_count": 10,
   "metadata": {},
   "outputs": [
    {
     "name": "stdout",
     "output_type": "stream",
     "text": [
      "0b1101\n"
     ]
    }
   ],
   "source": [
    "#for verificatin\n",
    "print(bin(13))"
   ]
  },
  {
   "cell_type": "code",
   "execution_count": null,
   "metadata": {},
   "outputs": [],
   "source": []
  },
  {
   "cell_type": "code",
   "execution_count": null,
   "metadata": {},
   "outputs": [],
   "source": [
    "# a | b\n",
    "\n",
    "#     a = 0b0011 1101\n",
    "#     b = 0b0000 1111\n",
    "# a | b = 0b0011 1111\n",
    "\n",
    "# (2 ** 5) + (2 ** 4) + (2 ** 3) + (2 ** 2) + (2 ** 1) + (2 ** 0) = 32 + 16 + 8 + 4 + 2 + 1 = 63\n"
   ]
  },
  {
   "cell_type": "code",
   "execution_count": 11,
   "metadata": {},
   "outputs": [
    {
     "name": "stdout",
     "output_type": "stream",
     "text": [
      "63\n"
     ]
    }
   ],
   "source": [
    "#for verification\n",
    "print(a | b)"
   ]
  },
  {
   "cell_type": "code",
   "execution_count": 12,
   "metadata": {},
   "outputs": [
    {
     "name": "stdout",
     "output_type": "stream",
     "text": [
      "0b111111\n"
     ]
    }
   ],
   "source": [
    "#for verification\n",
    "print(bin(63))"
   ]
  },
  {
   "cell_type": "code",
   "execution_count": null,
   "metadata": {},
   "outputs": [],
   "source": []
  },
  {
   "cell_type": "code",
   "execution_count": null,
   "metadata": {},
   "outputs": [],
   "source": [
    "# a ^ b\n",
    "\n",
    "#     a = 0b0011 1101\n",
    "#     b = 0b0000 1111\n",
    "# a ^ b = 0b0011 0010\n",
    "\n",
    "# (2 ** 5) + (2 ** 4) + (2 ** 1) = 32 + 16 + 2 = 50"
   ]
  },
  {
   "cell_type": "code",
   "execution_count": 13,
   "metadata": {},
   "outputs": [
    {
     "name": "stdout",
     "output_type": "stream",
     "text": [
      "50\n"
     ]
    }
   ],
   "source": [
    "#for verification\n",
    "print(a ^ b)"
   ]
  },
  {
   "cell_type": "code",
   "execution_count": 14,
   "metadata": {},
   "outputs": [
    {
     "name": "stdout",
     "output_type": "stream",
     "text": [
      "0b110010\n"
     ]
    }
   ],
   "source": [
    "#for verification\n",
    "print(bin(50))"
   ]
  },
  {
   "cell_type": "code",
   "execution_count": null,
   "metadata": {},
   "outputs": [],
   "source": []
  },
  {
   "cell_type": "code",
   "execution_count": null,
   "metadata": {},
   "outputs": [],
   "source": [
    "# a >> 2\n",
    "\n",
    "#      a = 0b0011 1101\n",
    "# a >> 2 = 0b0000 1111\n",
    "\n",
    "# (2 ** 3) + (2 ** 2) + (2 ** 1) + (2 ** 0) = 8 + 4 + 2 + 1 = 15\n"
   ]
  },
  {
   "cell_type": "code",
   "execution_count": 15,
   "metadata": {},
   "outputs": [
    {
     "name": "stdout",
     "output_type": "stream",
     "text": [
      "15\n"
     ]
    }
   ],
   "source": [
    "#for verification\n",
    "print(a >> 2)"
   ]
  },
  {
   "cell_type": "code",
   "execution_count": 16,
   "metadata": {},
   "outputs": [
    {
     "name": "stdout",
     "output_type": "stream",
     "text": [
      "0b1111\n"
     ]
    }
   ],
   "source": [
    "#for verification\n",
    "print(bin(15))"
   ]
  },
  {
   "cell_type": "markdown",
   "metadata": {},
   "source": [
    "### Exercise 3\n",
    "Ask a user for a code and store that answer. \n",
    "If the answer is <b>grey</b> then print \"You found secret code.\"\n",
    "Otherwise print that the entered code is not the secret code."
   ]
  },
  {
   "cell_type": "code",
   "execution_count": 19,
   "metadata": {},
   "outputs": [
    {
     "name": "stdout",
     "output_type": "stream",
     "text": [
      "Enter the code:\n",
      ">GREY\n",
      "You found the secret code...\n"
     ]
    }
   ],
   "source": [
    "\n",
    "#store the secret code into a variable\n",
    "secret_code = \"grey\"\n",
    "\n",
    "\n",
    "prompt = \">\"\n",
    "\n",
    "#ask user to enter the potential secret code\n",
    "print(\"Enter the code:\")\n",
    "\n",
    "#store the user entry into a variable\n",
    "user_code = input(prompt)\n",
    "#convert the user entry to lower case letters for comparison purposes\n",
    "user_code = user_code.lower()\n",
    "\n",
    "#see if the user entry matches the secret code\n",
    "#print/display if the user entry matches the secret code or not\n",
    "if user_code == secret_code :\n",
    "    print(\"You found the secret code...\")\n",
    "else :\n",
    "    print(\"The entered code is not the secret code...\")\n"
   ]
  },
  {
   "cell_type": "markdown",
   "metadata": {},
   "source": [
    "### Exercise 4\n",
    "Ask for an exam score and store that number. If the number is greater than 100, then print out 'You cannot have an exam score higher than 100'. If the number doesn't exceeed 100 but is greater than or equal to 75, then print out 'You did great on your exam!'. Otherwise if they scored lower than 75, then print out 'You need to study harder'."
   ]
  },
  {
   "cell_type": "code",
   "execution_count": 22,
   "metadata": {},
   "outputs": [
    {
     "name": "stdout",
     "output_type": "stream",
     "text": [
      "Enter the exam score:\n",
      ">76\n",
      "You did great on your exam!\n"
     ]
    }
   ],
   "source": [
    "prompt = \">\"\n",
    "\n",
    "#ask user to enter the exam score\n",
    "print(\"Enter the exam score:\")\n",
    "\n",
    "#use the int built-in function to convert the user entry into an integer\n",
    "exam_score = int(input(prompt))\n",
    "\n",
    "#determine if the exam score is valid...\n",
    "#if valid, print/display a message of success or failure...\n",
    "#if not valid, print/display an error message...\n",
    "if exam_score > 100 :\n",
    "    print(\"You can not have an exam score higher than 100...\")\n",
    "elif (exam_score >= 75) & (exam_score <= 100) : \n",
    "    print(\"You did great on your exam!\")\n",
    "else : \n",
    "    print(\"You need to study harder...\")\n",
    "        \n"
   ]
  },
  {
   "cell_type": "code",
   "execution_count": 42,
   "metadata": {},
   "outputs": [
    {
     "name": "stdout",
     "output_type": "stream",
     "text": [
      "Enter the exam score:\n",
      ">103\n",
      "You can not have an exam score higher than 100...\n"
     ]
    }
   ],
   "source": [
    "prompt = \">\"\n",
    "\n",
    "#ask user to enter the exam score\n",
    "print(\"Enter the exam score:\")\n",
    "\n",
    "#use the int built-in function to convert the user entry into an integer\n",
    "exam_score = int(input(prompt))\n",
    "\n",
    "#determine if the exam score is valid...\n",
    "#if valid, print/display a message of success or failure...\n",
    "#if not valid, print/display an error message...\n",
    "if exam_score > 100 :\n",
    "    print(\"You can not have an exam score higher than 100...\")\n",
    "elif (exam_score >= 75) & (exam_score <= 100) : \n",
    "    print(\"You did great on your exam!\")\n",
    "else : \n",
    "    print(\"You need to study harder...\")"
   ]
  },
  {
   "cell_type": "code",
   "execution_count": 43,
   "metadata": {},
   "outputs": [
    {
     "name": "stdout",
     "output_type": "stream",
     "text": [
      "Enter the exam score:\n",
      ">60\n",
      "You need to study harder...\n"
     ]
    }
   ],
   "source": [
    "prompt = \">\"\n",
    "\n",
    "#ask user to enter the exam score\n",
    "print(\"Enter the exam score:\")\n",
    "\n",
    "#use the int built-in function to convert the user entry into an integer\n",
    "exam_score = int(input(prompt))\n",
    "\n",
    "#determine if the exam score is valid...\n",
    "#if valid, print/display a message of success or failure...\n",
    "#if not valid, print/display an error message...\n",
    "if exam_score > 100 :\n",
    "    print(\"You can not have an exam score higher than 100...\")\n",
    "elif (exam_score >= 75) & (exam_score <= 100) : \n",
    "    print(\"You did great on your exam!\")\n",
    "else : \n",
    "    print(\"You need to study harder...\")"
   ]
  },
  {
   "cell_type": "code",
   "execution_count": null,
   "metadata": {},
   "outputs": [],
   "source": []
  },
  {
   "cell_type": "markdown",
   "metadata": {},
   "source": [
    "### Exercise 5\n",
    "Write a function to convert a test score to a grade where  \n",
    " - 90 - 100: A\n",
    " - 80 - 89:  B\n",
    " - 70 - 79:  C\n",
    " - 60 - 69:  D\n",
    " - < 60   :  F\n",
    " \n",
    "If a score is not between 0 and 100 then print out an error message. In the program, ask the user for a score and then call your function. "
   ]
  },
  {
   "cell_type": "code",
   "execution_count": 28,
   "metadata": {},
   "outputs": [],
   "source": [
    "# the alpha_grade function will convert the numeric test score into a letter grade...\n",
    "# the letter grade will be passed to the main (calling) program...\n",
    "def alpha_grade(test_score) :\n",
    "    if (test_score >= 90) & (test_score <= 100) :\n",
    "        test_grade = \"A\"\n",
    "    elif (test_score >= 80) & (test_score <= 89) :\n",
    "        test_grade = \"B\"\n",
    "    elif (test_score >= 70) & (test_score <= 79) :\n",
    "        test_grade = \"C\"        \n",
    "    elif (test_score >= 60) & (test_score <= 69) :\n",
    "        test_grade = \"D\"\n",
    "    else : \n",
    "        test_grade = \"F\"\n",
    "        \n",
    "    return test_grade\n",
    "        "
   ]
  },
  {
   "cell_type": "code",
   "execution_count": 40,
   "metadata": {},
   "outputs": [
    {
     "name": "stdout",
     "output_type": "stream",
     "text": [
      "Enter the test score:\n",
      ">1000\n",
      "You have entered an invalid exam score...\n"
     ]
    }
   ],
   "source": [
    "# ask the user for a score and then call your function\n",
    "\n",
    "prompt = \">\"\n",
    "\n",
    "#ask user to enter the exam score\n",
    "print(\"Enter the test score:\")\n",
    "\n",
    "#use the int built-in function to convert the user entry into an integer\n",
    "exam_score = int(input(prompt))\n",
    "\n",
    "#make sure that the entry is a valid\n",
    "#if valid, send the test score to the alpha_score function to convert the test score to a letter grade\n",
    "#if not valid, print/display an error message\n",
    "if (exam_score > 100) :\n",
    "    print(\"You have entered an invalid exam score...\")\n",
    "    valid_score = False\n",
    "elif (exam_score < 0) : \n",
    "    print(\"You have entered an invalid exam score...\")\n",
    "    valid_score = False\n",
    "else : \n",
    "    alpha_grade(exam_score)\n",
    "    valid_score = True\n",
    "   \n",
    "\n",
    "if valid_score == True :\n",
    "    print(f\"{alpha_grade(exam_score)} was the exam grade...\")\n"
   ]
  },
  {
   "cell_type": "code",
   "execution_count": 41,
   "metadata": {},
   "outputs": [
    {
     "name": "stdout",
     "output_type": "stream",
     "text": [
      "Enter the test score:\n",
      ">79\n",
      "C was the exam grade...\n"
     ]
    }
   ],
   "source": [
    "# ask the user for a score and then call your function\n",
    "\n",
    "prompt = \">\"\n",
    "\n",
    "#ask user to enter the exam score\n",
    "print(\"Enter the test score:\")\n",
    "\n",
    "#use the int built-in function to convert the user entry into an integer\n",
    "exam_score = int(input(prompt))\n",
    "\n",
    "#make sure that the entry is a valid\n",
    "#if valid, send the test score to the alpha_score function to convert the test score to a letter grade\n",
    "#if not valid, print/display an error message\n",
    "if (exam_score > 100) :\n",
    "    print(\"You have entered an invalid exam score...\")\n",
    "    valid_score = False\n",
    "elif (exam_score < 0) : \n",
    "    print(\"You have entered an invalid exam score...\")\n",
    "    valid_score = False\n",
    "else : \n",
    "    alpha_grade(exam_score)\n",
    "    valid_score = True\n",
    "   \n",
    "\n",
    "if valid_score == True :\n",
    "    print(f\"{alpha_grade(exam_score)} was the exam grade...\")\n"
   ]
  },
  {
   "cell_type": "code",
   "execution_count": null,
   "metadata": {},
   "outputs": [],
   "source": []
  }
 ],
 "metadata": {
  "kernelspec": {
   "display_name": "Python 3",
   "language": "python",
   "name": "python3"
  },
  "language_info": {
   "codemirror_mode": {
    "name": "ipython",
    "version": 3
   },
   "file_extension": ".py",
   "mimetype": "text/x-python",
   "name": "python",
   "nbconvert_exporter": "python",
   "pygments_lexer": "ipython3",
   "version": "3.8.8"
  }
 },
 "nbformat": 4,
 "nbformat_minor": 4
}
